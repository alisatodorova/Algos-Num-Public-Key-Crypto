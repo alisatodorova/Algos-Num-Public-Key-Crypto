{
 "cells": [
  {
   "cell_type": "markdown",
   "id": "a02e640e",
   "metadata": {},
   "source": [
    "### Alisa Todorova"
   ]
  },
  {
   "cell_type": "markdown",
   "id": "2645b9f2",
   "metadata": {},
   "source": [
    "1. Euclid's Algorithm: Implement a function taking as input 2 integers and outputting their gcd, using Euclid’s algorithm."
   ]
  },
  {
   "cell_type": "code",
   "execution_count": 1,
   "id": "2291cc7f",
   "metadata": {},
   "outputs": [],
   "source": [
    "#Euclid’s Algorithm\n",
    "def gcd(a,b):\n",
    "    if a==0: #Base case\n",
    "        return b\n",
    "    return gcd(b%a, a) #Recursive step"
   ]
  },
  {
   "cell_type": "code",
   "execution_count": 2,
   "id": "800829cc",
   "metadata": {},
   "outputs": [
    {
     "data": {
      "text/plain": [
       "3"
      ]
     },
     "execution_count": 2,
     "metadata": {},
     "output_type": "execute_result"
    }
   ],
   "source": [
    "gcd(12,15)"
   ]
  },
  {
   "cell_type": "markdown",
   "id": "0c080021",
   "metadata": {},
   "source": [
    "2. Multiplicative inverse: Write a function taking as input two integers a and n, and outputting the multiplicative inverse of a modulo n if it exists, using Euclid’s extended algorithm."
   ]
  },
  {
   "cell_type": "code",
   "execution_count": 3,
   "id": "bbedf4c7",
   "metadata": {},
   "outputs": [],
   "source": [
    "#Euclid’s extended algorithm\n",
    "def gcd_extended(a,b): #Based on slide 23 from Lecture Slides 1\n",
    "    if a==0: #Base case\n",
    "        u=0\n",
    "        v=1\n",
    "        return b, u, v\n",
    " \n",
    "    #Recursive steps\n",
    "    gcd, u1, v1 = gcd_extended(b%a, a)\n",
    "    q = (b//a)\n",
    "    u = v1-(q*u1)\n",
    "    v = u1\n",
    " \n",
    "    return gcd, u, v"
   ]
  },
  {
   "cell_type": "code",
   "execution_count": 4,
   "id": "d3084dca",
   "metadata": {},
   "outputs": [
    {
     "name": "stdout",
     "output_type": "stream",
     "text": [
      "a*u+b*v=gcd : a=12, b=15, gcd=3, u=-1, v=1, 12*-1+15*1=3\n"
     ]
    }
   ],
   "source": [
    "a=12\n",
    "b=15\n",
    "gcd, u, v = gcd_extended(a,b)\n",
    "print(f\"a*u+b*v=gcd : a={a}, b={b}, gcd={gcd}, u={u}, v={v}, {a}*{u}+{b}*{v}={gcd}\")"
   ]
  },
  {
   "cell_type": "code",
   "execution_count": 5,
   "id": "0f335a2a",
   "metadata": {},
   "outputs": [],
   "source": [
    "#Multiplicative inverse\n",
    "def modinverse(a,b):\n",
    "    gcd, u, v = gcd_extended(a,b) #Euclid’s extended algorithm\n",
    "    \n",
    "    if gcd==1:\n",
    "        return (u%b) #The multiplicative inverse of a modulo b\n",
    "    else:\n",
    "        print(f\"An integer that is a multiplicative inverse of {a} modulo {b} does NOT exist.\")"
   ]
  },
  {
   "cell_type": "code",
   "execution_count": 6,
   "id": "6b7e9dd5",
   "metadata": {},
   "outputs": [
    {
     "data": {
      "text/plain": [
       "3"
      ]
     },
     "execution_count": 6,
     "metadata": {},
     "output_type": "execute_result"
    }
   ],
   "source": [
    "modinverse(5,7)"
   ]
  },
  {
   "cell_type": "markdown",
   "id": "a30a0c4a",
   "metadata": {},
   "source": [
    "3. Chinese Remainder: Write a function taking as input a1, n1, a2, n2 with gcd(n1, n2) = 1, and returning z such that z≡a1 (mod n1) and z≡a2 (mod n2)."
   ]
  },
  {
   "cell_type": "code",
   "execution_count": 7,
   "id": "bf53ad93",
   "metadata": {},
   "outputs": [],
   "source": [
    "#Chinese Remainder Theorem (CRT)\n",
    "def crt(a1,n1,a2,n2): #Based on slide 34 from Lecture Slides 1\n",
    "    m1=modinverse(n2,n1)\n",
    "    m2=modinverse(n1,n2)\n",
    "    \n",
    "    z =((n2*m1*a1)+(n1*m2*a2))%(n1*n2)\n",
    "    return z"
   ]
  },
  {
   "cell_type": "code",
   "execution_count": 8,
   "id": "76e553c4",
   "metadata": {},
   "outputs": [
    {
     "data": {
      "text/plain": [
       "24"
      ]
     },
     "execution_count": 8,
     "metadata": {},
     "output_type": "execute_result"
    }
   ],
   "source": [
    "crt(4,5,3,7)"
   ]
  },
  {
   "cell_type": "markdown",
   "id": "4747e87c",
   "metadata": {},
   "source": [
    "Find a formula to generalize the CRT to more than two moduli. Write a function taking as input two lists [a1,...,ak] and [n1,...,nk] and returning z such that z ≡ ai (mod ni) for all 1 ≤ i ≤ k."
   ]
  },
  {
   "cell_type": "code",
   "execution_count": 9,
   "id": "7fc2fbfc",
   "metadata": {},
   "outputs": [],
   "source": [
    "#Generalized CRT for more than two moduli\n",
    "def crtlist(list1,list2):\n",
    "    prod = 1\n",
    "    for n in list2: #list2 contains the moduli\n",
    "        prod*=n #computes the product of all moduli\n",
    "     \n",
    "    z=0\n",
    "    for ai, ni in zip(list1,list2):\n",
    "        result = prod//ni\n",
    "        z+=ai*result*modinverse(result,ni) #computes CRT for more than two moduli\n",
    "    \n",
    "    return z%prod"
   ]
  },
  {
   "cell_type": "code",
   "execution_count": 10,
   "id": "ca199a6f",
   "metadata": {},
   "outputs": [
    {
     "data": {
      "text/plain": [
       "366"
      ]
     },
     "execution_count": 10,
     "metadata": {},
     "output_type": "execute_result"
    }
   ],
   "source": [
    "crtlist([1,2,3],[5,7,11])"
   ]
  },
  {
   "cell_type": "markdown",
   "id": "01a0b8cf",
   "metadata": {},
   "source": [
    "4. Jacobi symbol: Write a function computing the Jacobi symbol"
   ]
  },
  {
   "cell_type": "code",
   "execution_count": 11,
   "id": "a3ae2fc8",
   "metadata": {},
   "outputs": [],
   "source": [
    "#Jacobi symbol\n",
    "def jacobi(a,n): #Based on slide 47 from Lecture Slides 1\n",
    "    if a<=1: #Base case\n",
    "        return a\n",
    "    if a%2!=0: #a is odd\n",
    "        if (a%4==3 and n%4==3):\n",
    "            return -jacobi(n%a, a)\n",
    "        else:\n",
    "            return jacobi(n%a, a)\n",
    "    if a%2==0: #a is even\n",
    "        if (n%8==1 or n%8==-1):\n",
    "            return jacobi(a//2,n)\n",
    "        else:\n",
    "            return -jacobi(a//2,n)"
   ]
  },
  {
   "cell_type": "code",
   "execution_count": 12,
   "id": "f1d68118",
   "metadata": {},
   "outputs": [
    {
     "data": {
      "text/plain": [
       "1"
      ]
     },
     "execution_count": 12,
     "metadata": {},
     "output_type": "execute_result"
    }
   ],
   "source": [
    "jacobi(37,47)"
   ]
  },
  {
   "cell_type": "markdown",
   "id": "fe80b61a",
   "metadata": {},
   "source": [
    "5. Square roots and quadratic equations"
   ]
  },
  {
   "cell_type": "markdown",
   "id": "b9dd2440",
   "metadata": {},
   "source": [
    "Write a function computing square roots modulo a prime p ≡ 3 (mod 4)."
   ]
  },
  {
   "cell_type": "code",
   "execution_count": 13,
   "id": "c9f424aa",
   "metadata": {},
   "outputs": [],
   "source": [
    "#Modular square roots for a prime number p≡ 3 (mod 4).\n",
    "def sqroot(alpha, p): #Based on slide 48 from Lecture Slides 1\n",
    "    if p%4!=3:\n",
    "        return \"The condition {p ≡ 3 (mod 4)} is not fullfilled.\"\n",
    "    else:\n",
    "        beta = (pow(alpha, (p+1)//4))%p #The square root of alpha\n",
    "        min_beta = -beta%p #The square root of alpha modulo p\n",
    "        return [min_beta,beta]"
   ]
  },
  {
   "cell_type": "code",
   "execution_count": 14,
   "id": "4192751f",
   "metadata": {},
   "outputs": [
    {
     "data": {
      "text/plain": [
       "[8, 11]"
      ]
     },
     "execution_count": 14,
     "metadata": {},
     "output_type": "execute_result"
    }
   ],
   "source": [
    "sqroot(7,19)"
   ]
  },
  {
   "cell_type": "markdown",
   "id": "b0f42e70",
   "metadata": {},
   "source": [
    "Write a function finding the roots of a quadratic equation ax2 + bx + c = 0 (mod p) for p ≡ 3 (mod 4)."
   ]
  },
  {
   "cell_type": "code",
   "execution_count": 15,
   "id": "d7b80e2e",
   "metadata": {},
   "outputs": [],
   "source": [
    "#Roots of a quadratic equation for p≡ 3 (mod 4).\n",
    "def solvequad(a,b,c,p): #Based on slide 49 from Lecture Slides 1\n",
    "    if p%4!=3:\n",
    "        return \"The condition {p ≡ 3 (mod 4)} is not fullfilled.\"\n",
    "    else:\n",
    "        delta_sqr_root = sqroot((pow(b,2)-(4*a*c)),p)\n",
    "        x1 = (-b+delta_sqr_root[1])/(2*a)%p\n",
    "        x2 = (-b-delta_sqr_root[1])/(2*a)%p\n",
    "        return [x1,x2]\n",
    "    "
   ]
  },
  {
   "cell_type": "code",
   "execution_count": 16,
   "id": "08c62f59",
   "metadata": {},
   "outputs": [
    {
     "data": {
      "text/plain": [
       "[3, 14]"
      ]
     },
     "execution_count": 16,
     "metadata": {},
     "output_type": "execute_result"
    }
   ],
   "source": [
    "solvequad(2,4,8,19)"
   ]
  },
  {
   "cell_type": "code",
   "execution_count": null,
   "id": "0ff6b038",
   "metadata": {},
   "outputs": [],
   "source": []
  }
 ],
 "metadata": {
  "kernelspec": {
   "display_name": "SageMath 10.1",
   "language": "sage",
   "name": "sagemath"
  },
  "language_info": {
   "codemirror_mode": {
    "name": "ipython",
    "version": 3
   },
   "file_extension": ".py",
   "mimetype": "text/x-python",
   "name": "python",
   "nbconvert_exporter": "python",
   "pygments_lexer": "ipython3",
   "version": "3.11.1"
  }
 },
 "nbformat": 4,
 "nbformat_minor": 5
}
