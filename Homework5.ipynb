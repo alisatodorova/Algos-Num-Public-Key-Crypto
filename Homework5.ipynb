{
 "cells": [
  {
   "cell_type": "markdown",
   "id": "2f2e2c74",
   "metadata": {},
   "source": [
    "## Alisa Todorova"
   ]
  },
  {
   "cell_type": "code",
   "execution_count": 1,
   "id": "12c21995",
   "metadata": {},
   "outputs": [],
   "source": [
    "from sage.all import *"
   ]
  },
  {
   "cell_type": "markdown",
   "id": "8ff01911",
   "metadata": {},
   "source": [
    "### 1. Implement the signature generation algorithm using the Chinese Remainder Theorem (CRT) using the Sage library. \n",
    "More precisely, to compute s = md mod N, compute and s=m^d mod N, compute \n",
    "s_p=s mod p=m^(d mod p−1) mod p and s_q=s mod q=m^(d mod q−1) mod q\n",
    "\n",
    "Recover s mod N from s_p and s_q using the CRT."
   ]
  },
  {
   "cell_type": "code",
   "execution_count": 2,
   "id": "add9e0be",
   "metadata": {},
   "outputs": [],
   "source": [
    "# Generates a signature using the given parameters\n",
    "def sig_gen(m, d, p, q):\n",
    "    # Compute s_p and s_q as shown above\n",
    "    s_p = power_mod(m, d % (p - 1), p)\n",
    "    s_q = power_mod(m, d % (q - 1), q)\n",
    "\n",
    "    # Use CRT to recover s mod N from s_p and s_q\n",
    "    s = crt([s_p, s_q], [p, q])\n",
    "\n",
    "    return s"
   ]
  },
  {
   "cell_type": "code",
   "execution_count": 3,
   "id": "16c7ba68",
   "metadata": {},
   "outputs": [],
   "source": [
    "# This implementation is based on slide 7 of Lecture Slides \"The RSA cryptosystem - Part 1: encryption and signature\"\n",
    "\n",
    "# Generates an RSA key, where input n is the bitsize n of the RSA modulus N.\n",
    "def keyGen(n=512):\n",
    "\n",
    "    # Generate two large distinct primes p and q of same bit-size k/2, where k is a parameter.\n",
    "    p = random_prime(2**n - 1, lbound=2**(n - 1) + 1)\n",
    "    q = random_prime(2**n - 1, lbound=2**(n - 1) + 1)\n",
    "\n",
    "    Nn = p * q\n",
    "\n",
    "    phi = (p - 1) * (q - 1)\n",
    "\n",
    "    # Select a random integer e such that gcd(e, φ) = 1\n",
    "    e = randint(2, phi - 1)\n",
    "    while gcd(e, phi) != 1:\n",
    "        e = randint(2, phi - 1)\n",
    "\n",
    "    # Compute the unique integer d such that e · d ≡ 1 (mod φ)\n",
    "    d = inverse_mod(e, phi)\n",
    "\n",
    "    return Nn, p, q, e, d"
   ]
  },
  {
   "cell_type": "code",
   "execution_count": 4,
   "id": "90d5ced2",
   "metadata": {},
   "outputs": [
    {
     "name": "stdout",
     "output_type": "stream",
     "text": [
      "Signature: 63874662285719623577018983810926457154901160128099550747990999863732549471534666833883323917193716118633294972489378743227334500102294416856314482551248570269850534883348079224857778519862365240891544638984807241945068599477956409429253797700215232381581136650746597003057832543424170885393152540069036482892\n"
     ]
    }
   ],
   "source": [
    "# Test\n",
    "m = 12345\n",
    "Nn, p, q, e, d = keyGen()\n",
    "signature = sig_gen(m, d, p, q)\n",
    "print(\"Signature:\", signature)"
   ]
  },
  {
   "cell_type": "code",
   "execution_count": 5,
   "id": "34a79deb",
   "metadata": {},
   "outputs": [
    {
     "name": "stdout",
     "output_type": "stream",
     "text": [
      "Recovered message: 12345\n",
      "Signature is valid: True\n"
     ]
    }
   ],
   "source": [
    "# Verifies the signature\n",
    "def sig_ver(s, e, Nn):\n",
    "    return pow(s, e, Nn)\n",
    "\n",
    "recovered_m = sig_ver(signature, e, Nn)\n",
    "print(\"Recovered message:\", recovered_m)\n",
    "\n",
    "# Check if the signature is valid\n",
    "print(\"Signature is valid:\", recovered_m==m)"
   ]
  },
  {
   "cell_type": "markdown",
   "id": "8028f245",
   "metadata": {},
   "source": [
    "### 2. Assume that an error occurs during the computation of s_p, that is, an incorrect value s′_p   ̸=  s_p is computed while s_q is correctly computed. Explain and implement how to recover the factorization of N from s, following the Bellcore attack [BDL97]."
   ]
  },
  {
   "cell_type": "markdown",
   "id": "f733ccdb",
   "metadata": {},
   "source": [
    "The Bellcore attack is a fault attack on RSA signature scheme. If a fault occurs during the computation of s_p (see method sig_gen_error), we can recover the factorization of N by computing gcd(s_correct - s_error, N). We can do this because (s_correct - s_error) is a multiple of p, but not N, so the greatest common divisor of (s_correct - s_error) and N will give us p."
   ]
  },
  {
   "cell_type": "code",
   "execution_count": 6,
   "id": "d7d6a446",
   "metadata": {},
   "outputs": [],
   "source": [
    "# Generates a signature with an error occuring during the computation of s_p\n",
    "def sig_gen_error(m, d, p, q):\n",
    "    # Compute s_p with an error\n",
    "    s_p_wrong = power_mod(m, d % (p - 1), p) + 1  # +1 introduces the fault\n",
    "    # s_q stays as shown above\n",
    "    s_q = power_mod(m, d % (q - 1), q)\n",
    "\n",
    "    # Use CRT to recover s mod N from s_p_wrong and s_q, i.e., signature with error\n",
    "    s_error = crt([s_p_wrong, s_q], [p, q])\n",
    "\n",
    "    return s_error, s_p_wrong, s_q"
   ]
  },
  {
   "cell_type": "code",
   "execution_count": 7,
   "id": "a6c10195",
   "metadata": {},
   "outputs": [],
   "source": [
    "# Performs the Bellcore attack to factorize N from s using the given parameters\n",
    "def bellcore_attack(s_correct, s_error, Nn):\n",
    "\n",
    "    p_recovered = gcd(s_correct - s_error, Nn)\n",
    "    q_recovered = Nn / p_recovered\n",
    "\n",
    "    return p_recovered, q_recovered"
   ]
  },
  {
   "cell_type": "code",
   "execution_count": 8,
   "id": "6bb6d1ec",
   "metadata": {},
   "outputs": [
    {
     "name": "stdout",
     "output_type": "stream",
     "text": [
      "Correct Signature: 86831619450489827034913761224272859671263343474209933604835146022496588342881104064016581256456383212651526295753159184589524539226424522889176828433349250262665637518432712957442950390814941705865180758736160423467658364374455977892457453901630356512760350909647938231371140942894326739872406195144996554838\n",
      "Signature with an error in s_p: 87787177196987406742253019351124767083092709164964372148265695537513077387456247541759016654760787620614084170302328457665170274241950329322324313873180573583534820303751842882208514090176065830179295111509230101411353584407103795937522306400367124266868338360614770455782205122813321976255385071908734322152\n",
      "p: 10936774892146756035607236157249614656265408945648882949122640973150121322916498468708567675060512140928792381795800036035423225942155654730120669517540883\n",
      "q: 8036679004723843968702063591716442726014524285792087452334531773594954909599539006813907886890932026523829050573562033123975933649919579366158165453653633\n",
      "Recovered p: 8036679004723843968702063591716442726014524285792087452334531773594954909599539006813907886890932026523829050573562033123975933649919579366158165453653633\n",
      "Recovered q: 10936774892146756035607236157249614656265408945648882949122640973150121322916498468708567675060512140928792381795800036035423225942155654730120669517540883\n",
      "Recovered Factors are equal: True\n"
     ]
    }
   ],
   "source": [
    "# Test\n",
    "\n",
    "m = 12345\n",
    "Nn, p, q, e, d = keyGen()\n",
    "\n",
    "# Correct signature\n",
    "s_correct = sig_gen(m, d, p, q)\n",
    "print(\"Correct Signature:\", s_correct)\n",
    "\n",
    "# Signature with an error in s_p\n",
    "s_error, s_p_wrong, s_q = sig_gen_error(m, d, p, q)\n",
    "print(\"Signature with an error in s_p:\", s_error)\n",
    "\n",
    "print(\"p:\", p)\n",
    "print(\"q:\", q)\n",
    "\n",
    "# Perform the Bellcore attack\n",
    "p_recovered, q_recovered = bellcore_attack(s_correct, s_error, Nn)\n",
    "print(\"Recovered p:\", p_recovered)\n",
    "print(\"Recovered q:\", q_recovered)\n",
    "\n",
    "# Check if the factors are equal\n",
    "print(\"Recovered Factors are equal:\", Nn == p_recovered * q_recovered)"
   ]
  },
  {
   "cell_type": "markdown",
   "id": "67dd9638",
   "metadata": {},
   "source": [
    "### 3. How could such error be detected? Propose and implement a simple method to detect such error."
   ]
  },
  {
   "cell_type": "markdown",
   "id": "7ea93ab4",
   "metadata": {},
   "source": [
    "In order to detect an error in s_p (or s_q), we can recompute s from s_p and s_q using the Chinese Remainder Theorem (CRT), and then compare this recomputed s with the original s. If they are not equal, then an error has occurred during the computation of s_p or s_q."
   ]
  },
  {
   "cell_type": "code",
   "execution_count": 9,
   "id": "1b93a44d",
   "metadata": {},
   "outputs": [],
   "source": [
    "# Detects errors in the values of s, s_p, and s_q\n",
    "def detect_error(s, s_p, s_q, p, q):\n",
    "    error_messages = []\n",
    "\n",
    "    # Recompute s from s_p and s_q using the CRT\n",
    "    s_recomputed = crt([s_p, s_q], [p,q])\n",
    "\n",
    "    # Correct s_p and s_q\n",
    "    s_p_correct = power_mod(m, d % (p - 1), p)\n",
    "    s_q_correct = power_mod(m, d % (q - 1), q)\n",
    "\n",
    "    # Detect errors\n",
    "    if s_recomputed != s:\n",
    "        error_messages.append(\"Error in s\")\n",
    "    \n",
    "    if s_p_correct != s_p:\n",
    "        error_messages.append(\"Error in s_p\")\n",
    "    if s_q_correct != s_q:\n",
    "        error_messages.append(\"Error in s_q\")\n",
    "    \n",
    "    if not error_messages:\n",
    "        error_messages.append(\"No errors detected\")\n",
    "\n",
    "    return error_messages"
   ]
  },
  {
   "cell_type": "code",
   "execution_count": 10,
   "id": "57fad463",
   "metadata": {},
   "outputs": [
    {
     "name": "stdout",
     "output_type": "stream",
     "text": [
      "Correct Signature: 26572717191185844328890907562784603483440058082633917246668337158650884023145644696731180539260473351894541189739106226353102123602935554227786285429084692754788418602728882598054262301305850911265916691395087174738729300004913850920648728864033945553436402887018591058051348989448514554172410261016864966870\n",
      "Error Detected: ['Error in s', 'Error in s_p']\n"
     ]
    }
   ],
   "source": [
    "# Test\n",
    "\n",
    "m = 12345\n",
    "Nn, p, q, e, d = keyGen()\n",
    "\n",
    "# Correct signature\n",
    "s_correct = sig_gen(m, d, p, q)\n",
    "print(\"Correct Signature:\", s_correct)\n",
    "\n",
    "# Signature with an error in s_p\n",
    "s_error, s_p_wrong, s_q = sig_gen_error(m, d, p, q)\n",
    "\n",
    "# Check if any errors can be detected\n",
    "error_detected = detect_error(s_correct, s_p_wrong, s_q, p,q)\n",
    "print(\"Error Detected:\", error_detected)"
   ]
  },
  {
   "cell_type": "markdown",
   "id": "5035df2c",
   "metadata": {},
   "source": [
    "Another way we can know for sure whether there're any errors, is to verify the generated signature against the original message and the public key. "
   ]
  },
  {
   "cell_type": "code",
   "execution_count": 11,
   "id": "c9acbc79",
   "metadata": {},
   "outputs": [
    {
     "name": "stdout",
     "output_type": "stream",
     "text": [
      "Original message: 12345\n",
      "Recovered message: 7555553609145045416614731334175904102287415981949891917489262947563325527474544320687948800879833129678382960476695655182377204548752557915846564628756981441982832228888497346841264136130409474665365933708770228473459404321427263355112527172405730511023089768273979945291244878458641430983783787486893099312\n",
      "Signature is invalid! There is an error in the signature.\n"
     ]
    }
   ],
   "source": [
    "# Verifies the signature\n",
    "def sig_ver(s, e, Nn):\n",
    "    return pow(s, e, Nn)\n",
    "\n",
    "print(\"Original message:\", m)\n",
    "# Message we want to recover\n",
    "recovered_m = sig_ver(s_error, e, Nn)\n",
    "print(\"Recovered message:\", recovered_m)\n",
    "\n",
    "# Check if the signature is valid\n",
    "if recovered_m != m:\n",
    "    print(\"Signature is invalid! There is an error in the signature.\")"
   ]
  }
 ],
 "metadata": {
  "kernelspec": {
   "display_name": "SageMath 10.1",
   "language": "sage",
   "name": "SageMath-10.1"
  },
  "language_info": {
   "codemirror_mode": {
    "name": "ipython",
    "version": 3
   },
   "file_extension": ".py",
   "mimetype": "text/x-python",
   "name": "python",
   "nbconvert_exporter": "python",
   "pygments_lexer": "ipython3",
   "version": "3.11.1"
  }
 },
 "nbformat": 4,
 "nbformat_minor": 5
}
